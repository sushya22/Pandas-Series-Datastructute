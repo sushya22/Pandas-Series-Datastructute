{
 "cells": [
  {
   "cell_type": "markdown",
   "id": "fcbc6c78",
   "metadata": {},
   "source": [
    "# Pandas Series Data-Structure\n",
    "\n",
    "pandas mainly has 2 types of data structure to handle the data. namely,\n",
    "1. Series Object: 1-D labeled array.\n",
    "2. Dataframe Object: 2-D labeled array."
   ]
  },
  {
   "cell_type": "code",
   "execution_count": 1,
   "id": "600b8c58",
   "metadata": {},
   "outputs": [
    {
     "name": "stdout",
     "output_type": "stream",
     "text": [
      "0    1\n",
      "1    2\n",
      "2    3\n",
      "3    4\n",
      "4    5\n",
      "dtype: int64\n"
     ]
    }
   ],
   "source": [
    "#Series class cunstructor.\n",
    "#Series(data,index,name,dtype,copy)\n",
    "\n",
    "import pandas as pd\n",
    "l=range(1,6)\n",
    "s=pd.Series(l)\n",
    "print(s)"
   ]
  },
  {
   "cell_type": "code",
   "execution_count": 2,
   "id": "e9c16488",
   "metadata": {},
   "outputs": [
    {
     "name": "stdout",
     "output_type": "stream",
     "text": [
      "1     1\n",
      "2     3\n",
      "3     5\n",
      "4     7\n",
      "5     9\n",
      "6    11\n",
      "7    13\n",
      "8    15\n",
      "9    17\n",
      "dtype: int64\n",
      "index labels RangeIndex(start=1, stop=10, step=1)\n",
      "dimension of the series 1\n",
      "shape of the series (9,)\n",
      "size of the series 9\n",
      "series values: [ 1  3  5  7  9 11 13 15 17]\n"
     ]
    }
   ],
   "source": [
    "s=pd.Series(data=range(1,19,2),index=range(1,10))\n",
    "print(s)\n",
    "print(\"index labels\",s.index)\n",
    "print(\"dimension of the series\",s.ndim)\n",
    "print(\"shape of the series\",s.shape)\n",
    "print(\"size of the series\",s.size)\n",
    "print(\"series values:\",s.values)"
   ]
  },
  {
   "cell_type": "code",
   "execution_count": 3,
   "id": "5e6398cf",
   "metadata": {},
   "outputs": [
    {
     "name": "stdout",
     "output_type": "stream",
     "text": [
      "1     1\n",
      "2     3\n",
      "3     5\n",
      "4     7\n",
      "5     9\n",
      "6    11\n",
      "7    13\n",
      "8    15\n",
      "9    17\n",
      "dtype: int64\n"
     ]
    }
   ],
   "source": [
    "labels = ['a','b','c','d','e']\n",
    "s1=pd.Series(range(1,6),labels)\n",
    "print(s)"
   ]
  },
  {
   "cell_type": "markdown",
   "id": "b7a380dc",
   "metadata": {},
   "source": [
    "Accessing the series elements."
   ]
  },
  {
   "cell_type": "code",
   "execution_count": 4,
   "id": "b7c7e9a5",
   "metadata": {},
   "outputs": [
    {
     "name": "stdout",
     "output_type": "stream",
     "text": [
      "Accessing using the integer locations.\n",
      "3\n",
      "1     1\n",
      "2     3\n",
      "5     9\n",
      "6    11\n",
      "dtype: int64\n",
      "3     5\n",
      "4     7\n",
      "5     9\n",
      "6    11\n",
      "dtype: int64\n",
      "--------------------\n",
      "Accesing the using the labels\n",
      "1\n",
      "3     5\n",
      "4     7\n",
      "5     9\n",
      "6    11\n",
      "7    13\n",
      "8    15\n",
      "dtype: int64\n"
     ]
    }
   ],
   "source": [
    "print(\"Accessing using the integer locations.\")\n",
    "print(s[2])\n",
    "print(s[[1,2,5,6]])\n",
    "print(s[2:6])\n",
    "\n",
    "print('-'*20)\n",
    "\n",
    "print(\"Accesing the using the labels\")\n",
    "print(s[1])\n",
    "print(s[2:8])"
   ]
  },
  {
   "cell_type": "markdown",
   "id": "6db197e4",
   "metadata": {},
   "source": [
    "iloc attribute is used with the integer based access.\n",
    "\n",
    "loc attribute is used to with the label based access.\n",
    "\n",
    "when default index are used then iloc==loc\n",
    "\n",
    "All types of access are allowed with the followed method. like location based, boolean masking, slicing , accessing the random items using the labels or integer indexes."
   ]
  },
  {
   "cell_type": "code",
   "execution_count": 5,
   "id": "c16fb279",
   "metadata": {},
   "outputs": [
    {
     "name": "stdout",
     "output_type": "stream",
     "text": [
      "1\n",
      "1\n"
     ]
    }
   ],
   "source": [
    "print(s.iloc[0])\n",
    "\n",
    "print(s.loc[1])"
   ]
  },
  {
   "cell_type": "markdown",
   "id": "bee866f6",
   "metadata": {},
   "source": [
    "get() method is used to get the value from the series because using the above methods will give the error when particular label used to access the data is absent.\n",
    "\n",
    "slicing is not allowed in the get() method.\n"
   ]
  },
  {
   "cell_type": "code",
   "execution_count": 6,
   "id": "71b94d35",
   "metadata": {},
   "outputs": [
    {
     "name": "stdout",
     "output_type": "stream",
     "text": [
      "1\n",
      "1     1\n",
      "5     9\n",
      "2     3\n",
      "8    15\n",
      "dtype: int64\n",
      "None\n",
      "None Label not present\n"
     ]
    }
   ],
   "source": [
    "print(s.get(1))\n",
    "\n",
    "print(s.get([1,5,2,8]))\n",
    "\n",
    "#If the label used is absent then it will return the \"None\" instead of \"error\".\n",
    "\n",
    "print(s.get(0)) #None\n",
    "\n",
    "print(s.get(0),\"Label not present\")"
   ]
  },
  {
   "cell_type": "code",
   "execution_count": 7,
   "id": "f8e12425",
   "metadata": {
    "scrolled": true
   },
   "outputs": [
    {
     "name": "stderr",
     "output_type": "stream",
     "text": [
      "C:\\Users\\HP\\AppData\\Local\\Temp\\ipykernel_5164\\836589824.py:3: FutureWarning: The squeeze argument has been deprecated and will be removed in a future version. Append .squeeze(\"columns\") to the call to squeeze.\n",
      "\n",
      "\n",
      "  s=pd.read_csv(\"Customers.csv\",usecols=['CustomerID','Age'],index_col='CustomerID',squeeze=True)\n"
     ]
    },
    {
     "data": {
      "text/plain": [
       "CustomerID\n",
       "1    19\n",
       "2    21\n",
       "3    20\n",
       "4    23\n",
       "5    31\n",
       "Name: Age, dtype: int64"
      ]
     },
     "execution_count": 7,
     "metadata": {},
     "output_type": "execute_result"
    }
   ],
   "source": [
    "#Reading data from excel sheet into the Series object.\n",
    "\n",
    "s=pd.read_csv(\"Customers.csv\",usecols=['CustomerID','Age'],index_col='CustomerID',squeeze=True)\n",
    "s.head()"
   ]
  },
  {
   "cell_type": "code",
   "execution_count": 8,
   "id": "db669479",
   "metadata": {},
   "outputs": [
    {
     "data": {
      "text/plain": [
       "CustomerID\n",
       "196    35\n",
       "197    45\n",
       "198    32\n",
       "199    32\n",
       "200    30\n",
       "Name: Age, dtype: int64"
      ]
     },
     "execution_count": 8,
     "metadata": {},
     "output_type": "execute_result"
    }
   ],
   "source": [
    "s.tail()"
   ]
  },
  {
   "cell_type": "code",
   "execution_count": 9,
   "id": "e1b9b9f2",
   "metadata": {},
   "outputs": [
    {
     "name": "stdout",
     "output_type": "stream",
     "text": [
      "200\n"
     ]
    }
   ],
   "source": [
    "print(s.size)"
   ]
  },
  {
   "cell_type": "code",
   "execution_count": 10,
   "id": "c5c59470",
   "metadata": {},
   "outputs": [
    {
     "name": "stdout",
     "output_type": "stream",
     "text": [
      "CustomerID\n",
      "9      64\n",
      "11     67\n",
      "13     58\n",
      "19     52\n",
      "23     46\n",
      "       ..\n",
      "185    41\n",
      "187    54\n",
      "189    41\n",
      "195    47\n",
      "197    45\n",
      "Name: Age, Length: 78, dtype: int64\n",
      "78\n"
     ]
    }
   ],
   "source": [
    "#Boolean masking \n",
    "#we can use any relational operator to retrieve the data.\n",
    "print(s[s>40])\n",
    "print(s[s>40].size)"
   ]
  },
  {
   "cell_type": "code",
   "execution_count": 11,
   "id": "28be4406",
   "metadata": {},
   "outputs": [
    {
     "name": "stdout",
     "output_type": "stream",
     "text": [
      "CustomerID\n",
      "1      19\n",
      "2      21\n",
      "3      20\n",
      "4      23\n",
      "5      31\n",
      "       ..\n",
      "194    38\n",
      "196    35\n",
      "198    32\n",
      "199    32\n",
      "200    30\n",
      "Name: Age, Length: 116, dtype: int64\n"
     ]
    }
   ],
   "source": [
    "#Selecting the customers with age between 30 and 40 using the callable external python function.\n",
    "\n",
    "def selectbetween30and40(x):\n",
    "    return [True if x1<40 else False for x1 in x]\n",
    "\n",
    "s1 = s[selectbetween30and40]\n",
    "print(s1)"
   ]
  },
  {
   "cell_type": "code",
   "execution_count": 12,
   "id": "0a0bf5cf",
   "metadata": {},
   "outputs": [
    {
     "name": "stdout",
     "output_type": "stream",
     "text": [
      "CustomerID\n",
      "1      29\n",
      "2      31\n",
      "3      30\n",
      "4      33\n",
      "5      41\n",
      "       ..\n",
      "196    45\n",
      "197    55\n",
      "198    42\n",
      "199    42\n",
      "200    40\n",
      "Name: Age, Length: 200, dtype: int64\n"
     ]
    }
   ],
   "source": [
    "#Arithmetic Operations with the Series object.\n",
    "\n",
    "print(s+10) #Similar way we can use any arithmetic operators to perform the operations like - , * , / , %"
   ]
  },
  {
   "cell_type": "code",
   "execution_count": 13,
   "id": "d7df3822",
   "metadata": {},
   "outputs": [
    {
     "name": "stdout",
     "output_type": "stream",
     "text": [
      "0       1\n",
      "1       2\n",
      "2       3\n",
      "3       4\n",
      "4       5\n",
      "5       6\n",
      "6    <NA>\n",
      "dtype: object\n"
     ]
    }
   ],
   "source": [
    "#methods to perform the arithmetic operations.\n",
    "\n",
    "s2=pd.Series([1,2,3,4,5,6,pd.NA])\n",
    "print(s2)"
   ]
  },
  {
   "cell_type": "code",
   "execution_count": 14,
   "id": "fb36cc9a",
   "metadata": {},
   "outputs": [
    {
     "name": "stdout",
     "output_type": "stream",
     "text": [
      "0      11\n",
      "1      12\n",
      "2      13\n",
      "3      14\n",
      "4      15\n",
      "5      16\n",
      "6    <NA>\n",
      "dtype: object\n"
     ]
    }
   ],
   "source": [
    "print(s2+10) #arithmetic oprerations with the NA will always give NA as result."
   ]
  },
  {
   "cell_type": "code",
   "execution_count": 15,
   "id": "8513490e",
   "metadata": {},
   "outputs": [
    {
     "name": "stdout",
     "output_type": "stream",
     "text": [
      "0    11\n",
      "1    12\n",
      "2    13\n",
      "3    14\n",
      "4    15\n",
      "5    16\n",
      "6    10\n",
      "dtype: int64\n"
     ]
    }
   ],
   "source": [
    "print(s2.add(10,fill_value=0)) #fill_value is used to replace the NA.\n",
    "#there are multiple operators are present to perform the operations."
   ]
  },
  {
   "cell_type": "code",
   "execution_count": 16,
   "id": "26f22793",
   "metadata": {},
   "outputs": [
    {
     "name": "stdout",
     "output_type": "stream",
     "text": [
      "0     5\n",
      "1     6\n",
      "2     7\n",
      "8     8\n",
      "9     9\n",
      "12    1\n",
      "13    2\n",
      "dtype: int64\n"
     ]
    }
   ],
   "source": [
    "s3=pd.Series([5,6,7,8,9,1,2],index=[0,1,2,8,9,12,13])\n",
    "print(s3)"
   ]
  },
  {
   "cell_type": "code",
   "execution_count": 17,
   "id": "f57dbf78",
   "metadata": {},
   "outputs": [
    {
     "name": "stdout",
     "output_type": "stream",
     "text": [
      "0      6.0\n",
      "1      8.0\n",
      "2     10.0\n",
      "3      NaN\n",
      "4      NaN\n",
      "5      NaN\n",
      "6     <NA>\n",
      "8      NaN\n",
      "9      NaN\n",
      "12     NaN\n",
      "13     NaN\n",
      "dtype: object\n",
      "0      6.0\n",
      "1      8.0\n",
      "2     10.0\n",
      "3      4.0\n",
      "4      5.0\n",
      "5      6.0\n",
      "6     <NA>\n",
      "8      8.0\n",
      "9      9.0\n",
      "12     1.0\n",
      "13     2.0\n",
      "dtype: object\n"
     ]
    }
   ],
   "source": [
    "print(s2.add(s3)) #when index do not match with other series object then NaN will be result.\n",
    "\n",
    "print(s2.add(s3,fill_value=0)) \n"
   ]
  },
  {
   "cell_type": "markdown",
   "id": "c0ade80a",
   "metadata": {},
   "source": [
    "#Handling the missing values...\n",
    "\n",
    "1.isnull()\n",
    "2.notnull()\n",
    "3.dropna()\n",
    "4.fillna() \n"
   ]
  },
  {
   "cell_type": "code",
   "execution_count": 18,
   "id": "d0999687",
   "metadata": {},
   "outputs": [
    {
     "name": "stderr",
     "output_type": "stream",
     "text": [
      "C:\\Users\\HP\\AppData\\Local\\Temp\\ipykernel_5164\\2010597685.py:1: FutureWarning: The squeeze argument has been deprecated and will be removed in a future version. Append .squeeze(\"columns\") to the call to squeeze.\n",
      "\n",
      "\n",
      "  df=pd.read_csv('customers1.csv',usecols=['CustomerID','Age'],index_col='CustomerID',squeeze=True)\n"
     ]
    },
    {
     "data": {
      "text/plain": [
       "CustomerID\n",
       "1     NaN\n",
       "2    21.0\n",
       "3    20.0\n",
       "4    23.0\n",
       "5    31.0\n",
       "Name: Age, dtype: float64"
      ]
     },
     "execution_count": 18,
     "metadata": {},
     "output_type": "execute_result"
    }
   ],
   "source": [
    "df=pd.read_csv('customers1.csv',usecols=['CustomerID','Age'],index_col='CustomerID',squeeze=True)\n",
    "df.head()"
   ]
  },
  {
   "cell_type": "code",
   "execution_count": 19,
   "id": "f0033fef",
   "metadata": {},
   "outputs": [
    {
     "data": {
      "text/plain": [
       "CustomerID\n",
       "1       True\n",
       "2      False\n",
       "3      False\n",
       "4      False\n",
       "5      False\n",
       "       ...  \n",
       "196    False\n",
       "197    False\n",
       "198    False\n",
       "199    False\n",
       "200    False\n",
       "Name: Age, Length: 200, dtype: bool"
      ]
     },
     "execution_count": 19,
     "metadata": {},
     "output_type": "execute_result"
    }
   ],
   "source": [
    "df.isnull() #it returns True where there is no data and returns False where there is data.\n"
   ]
  },
  {
   "cell_type": "code",
   "execution_count": 20,
   "id": "50a424b5",
   "metadata": {},
   "outputs": [
    {
     "data": {
      "text/plain": [
       "CustomerID\n",
       "1      False\n",
       "2       True\n",
       "3       True\n",
       "4       True\n",
       "5       True\n",
       "       ...  \n",
       "196     True\n",
       "197     True\n",
       "198     True\n",
       "199     True\n",
       "200     True\n",
       "Name: Age, Length: 200, dtype: bool"
      ]
     },
     "execution_count": 20,
     "metadata": {},
     "output_type": "execute_result"
    }
   ],
   "source": [
    "df.notnull() #it is exactly opposite to the isnull() function."
   ]
  },
  {
   "cell_type": "code",
   "execution_count": 21,
   "id": "504952f8",
   "metadata": {},
   "outputs": [
    {
     "name": "stdout",
     "output_type": "stream",
     "text": [
      "CustomerID\n",
      "2      21.0\n",
      "3      20.0\n",
      "4      23.0\n",
      "5      31.0\n",
      "7      35.0\n",
      "       ... \n",
      "196    35.0\n",
      "197    45.0\n",
      "198    32.0\n",
      "199    32.0\n",
      "200    30.0\n",
      "Name: Age, Length: 194, dtype: float64\n",
      "CustomerID\n",
      "2      False\n",
      "3      False\n",
      "4      False\n",
      "5      False\n",
      "7      False\n",
      "       ...  \n",
      "196    False\n",
      "197    False\n",
      "198    False\n",
      "199    False\n",
      "200    False\n",
      "Name: Age, Length: 194, dtype: bool\n"
     ]
    }
   ],
   "source": [
    "df1=df.dropna(inplace=False)\n",
    "print(df1)\n",
    "print(df1.isnull())"
   ]
  },
  {
   "cell_type": "code",
   "execution_count": 22,
   "id": "dff83261",
   "metadata": {},
   "outputs": [
    {
     "name": "stdout",
     "output_type": "stream",
     "text": [
      "CustomerID\n",
      "1      False\n",
      "2      False\n",
      "3      False\n",
      "4      False\n",
      "5      False\n",
      "       ...  \n",
      "196    False\n",
      "197    False\n",
      "198    False\n",
      "199    False\n",
      "200    False\n",
      "Name: Age, Length: 200, dtype: bool\n",
      "0\n"
     ]
    }
   ],
   "source": [
    "df.fillna(0,inplace=True)\n",
    "print(df.isnull())\n",
    "print(df[df.isnull()].size)"
   ]
  },
  {
   "cell_type": "code",
   "execution_count": 23,
   "id": "89da8fce",
   "metadata": {},
   "outputs": [
    {
     "name": "stdout",
     "output_type": "stream",
     "text": [
      "Mean 37.98\n",
      "Median 35.5\n",
      "Mode 32.0\n",
      "variance 234.17045226130654\n",
      "Standard deviation 15.302628933007117\n",
      "Sum 7596.0\n",
      "min 0.0\n",
      "max 70.0\n"
     ]
    }
   ],
   "source": [
    "#Descriptive statistics with the Pandas inbuilt function.\n",
    "\n",
    "print(\"Mean\",df.mean())\n",
    "print(\"Median\",df.median())\n",
    "print(\"Mode\",df.mode()[0])\n",
    "print(\"variance\",df.var())\n",
    "print(\"Standard deviation\",df.std())\n",
    "print(\"Sum\",df.sum())\n",
    "print(\"min\",df.min())\n",
    "print(\"max\",df.max())"
   ]
  },
  {
   "cell_type": "code",
   "execution_count": 24,
   "id": "41b1afdc",
   "metadata": {},
   "outputs": [
    {
     "name": "stdout",
     "output_type": "stream",
     "text": [
      "count    200.000000\n",
      "mean      37.980000\n",
      "std       15.302629\n",
      "min        0.000000\n",
      "25%       28.000000\n",
      "50%       35.500000\n",
      "75%       49.000000\n",
      "max       70.000000\n",
      "Name: Age, dtype: float64\n"
     ]
    }
   ],
   "source": [
    "print(df.describe())\n"
   ]
  },
  {
   "cell_type": "code",
   "execution_count": 25,
   "id": "38d83553",
   "metadata": {},
   "outputs": [
    {
     "name": "stdout",
     "output_type": "stream",
     "text": [
      "CustomerID\n",
      "1         0.0\n",
      "2        21.0\n",
      "3        41.0\n",
      "4        64.0\n",
      "5        95.0\n",
      "        ...  \n",
      "196    7457.0\n",
      "197    7502.0\n",
      "198    7534.0\n",
      "199    7566.0\n",
      "200    7596.0\n",
      "Name: Age, Length: 200, dtype: float64\n",
      "--------------------\n",
      "CustomerID\n",
      "1      0.0\n",
      "2      0.0\n",
      "3      0.0\n",
      "4      0.0\n",
      "5      0.0\n",
      "      ... \n",
      "196    0.0\n",
      "197    0.0\n",
      "198    0.0\n",
      "199    0.0\n",
      "200    0.0\n",
      "Name: Age, Length: 200, dtype: float64\n",
      "--------------------\n",
      "CustomerID\n",
      "1      0.0\n",
      "2      0.0\n",
      "3      0.0\n",
      "4      0.0\n",
      "5      0.0\n",
      "      ... \n",
      "196    0.0\n",
      "197    0.0\n",
      "198    0.0\n",
      "199    0.0\n",
      "200    0.0\n",
      "Name: Age, Length: 200, dtype: float64\n",
      "--------------------\n",
      "CustomerID\n",
      "1       0.0\n",
      "2      21.0\n",
      "3      21.0\n",
      "4      23.0\n",
      "5      31.0\n",
      "       ... \n",
      "196    70.0\n",
      "197    70.0\n",
      "198    70.0\n",
      "199    70.0\n",
      "200    70.0\n",
      "Name: Age, Length: 200, dtype: float64\n"
     ]
    }
   ],
   "source": [
    "#Cummulative functions \n",
    "\n",
    "print(df.cumsum())\n",
    "print(\"-\"*20)\n",
    "print(df.cumprod())\n",
    "print(\"-\"*20)\n",
    "print(df.cummin())\n",
    "print(\"-\"*20)\n",
    "print(df.cummax())"
   ]
  },
  {
   "cell_type": "code",
   "execution_count": 26,
   "id": "cdc48b95",
   "metadata": {},
   "outputs": [
    {
     "name": "stdout",
     "output_type": "stream",
     "text": [
      "CustomerID\n",
      "1     NaN\n",
      "2     NaN\n",
      "3     NaN\n",
      "4    23.0\n",
      "5    10.0\n",
      "Name: Age, dtype: float64\n"
     ]
    }
   ],
   "source": [
    "#diff() function is used to find the difference between the successice values of the Series object.\n",
    "\n",
    "print(df.head().diff(3)) #3 is periods parameter that specifies the range to consider in order to take the difference."
   ]
  },
  {
   "cell_type": "code",
   "execution_count": 27,
   "id": "2794ecb1",
   "metadata": {},
   "outputs": [
    {
     "name": "stdout",
     "output_type": "stream",
     "text": [
      "CustomerID\n",
      "61    70.0\n",
      "71    70.0\n",
      "58    69.0\n",
      "68    68.0\n",
      "91    68.0\n",
      "      ... \n",
      "6      0.0\n",
      "15     0.0\n",
      "18     0.0\n",
      "24     0.0\n",
      "27     0.0\n",
      "Name: Age, Length: 200, dtype: float64\n"
     ]
    }
   ],
   "source": [
    "#sorting the series values...\n",
    "#sort_values() method...\n",
    "\n",
    "df.sort_values(inplace=True,ascending=False,kind='mergesort')\n",
    "print(df)"
   ]
  },
  {
   "cell_type": "code",
   "execution_count": 28,
   "id": "63829a3e",
   "metadata": {},
   "outputs": [
    {
     "name": "stdout",
     "output_type": "stream",
     "text": [
      "CustomerID\n",
      "1       0.0\n",
      "2      21.0\n",
      "3      20.0\n",
      "4      23.0\n",
      "5      31.0\n",
      "       ... \n",
      "196    35.0\n",
      "197    45.0\n",
      "198    32.0\n",
      "199    32.0\n",
      "200    30.0\n",
      "Name: Age, Length: 200, dtype: float64\n"
     ]
    }
   ],
   "source": [
    "df.sort_index(inplace=True,ascending=True)\n",
    "print(df)"
   ]
  },
  {
   "cell_type": "code",
   "execution_count": 29,
   "id": "1ffdfc87",
   "metadata": {},
   "outputs": [
    {
     "name": "stdout",
     "output_type": "stream",
     "text": [
      "CustomerID\n",
      "1      50.0\n",
      "2      50.0\n",
      "3      50.0\n",
      "4      50.0\n",
      "5      50.0\n",
      "       ... \n",
      "196    50.0\n",
      "197    50.0\n",
      "198    50.0\n",
      "199    50.0\n",
      "200    50.0\n",
      "Name: Age, Length: 200, dtype: float64\n"
     ]
    }
   ],
   "source": [
    "#Replacing the values based on the condition.....\n",
    "#where() and mask() methods.\n",
    "#where() replaces where there is false.\n",
    "#mask() replaces where there is true.\n",
    "\n",
    "df.where(df>30,40,inplace=True)\n",
    "df.mask(df>30,50,inplace=True)\n",
    "print(df)"
   ]
  },
  {
   "cell_type": "code",
   "execution_count": 30,
   "id": "dadf861b",
   "metadata": {},
   "outputs": [
    {
     "name": "stdout",
     "output_type": "stream",
     "text": [
      "1\n"
     ]
    }
   ],
   "source": [
    "print(df.nunique())"
   ]
  },
  {
   "cell_type": "markdown",
   "id": "ac9ac3b6",
   "metadata": {},
   "source": [
    "1.Partial update.\n",
    "2.Global update.\n",
    "\n",
    "Applying the function to each element of the series values using the map() and apply().\n",
    "apply() is better compared to map() as it allows the arguments and keyword arguments to pass to callable function."
   ]
  },
  {
   "cell_type": "code",
   "execution_count": 32,
   "id": "4fe6959a",
   "metadata": {},
   "outputs": [
    {
     "data": {
      "text/plain": [
       "CustomerID\n",
       "1      60.0\n",
       "2      60.0\n",
       "3      60.0\n",
       "4      60.0\n",
       "5      60.0\n",
       "       ... \n",
       "196    60.0\n",
       "197    60.0\n",
       "198    60.0\n",
       "199    60.0\n",
       "200    60.0\n",
       "Name: Age, Length: 200, dtype: float64"
      ]
     },
     "execution_count": 32,
     "metadata": {},
     "output_type": "execute_result"
    }
   ],
   "source": [
    "def applymeth(x,a,b):\n",
    "    return x+a+b\n",
    "\n",
    "\n",
    "df.apply(applymeth,args=(2,8))"
   ]
  },
  {
   "cell_type": "code",
   "execution_count": 34,
   "id": "819f399a",
   "metadata": {},
   "outputs": [
    {
     "data": {
      "text/plain": [
       "CustomerID\n",
       "1      55.0\n",
       "2      55.0\n",
       "3      55.0\n",
       "4      55.0\n",
       "5      55.0\n",
       "       ... \n",
       "196    55.0\n",
       "197    55.0\n",
       "198    55.0\n",
       "199    55.0\n",
       "200    55.0\n",
       "Name: Age, Length: 200, dtype: float64"
      ]
     },
     "execution_count": 34,
     "metadata": {},
     "output_type": "execute_result"
    }
   ],
   "source": [
    "def mapfunc(x):\n",
    "    return x+5;\n",
    "\n",
    "df.map(mapfunc)"
   ]
  },
  {
   "cell_type": "code",
   "execution_count": 44,
   "id": "2b80df8d",
   "metadata": {},
   "outputs": [
    {
     "data": {
      "text/plain": [
       "0    2\n",
       "1    3\n",
       "2    4\n",
       "3    5\n",
       "dtype: int32"
      ]
     },
     "execution_count": 44,
     "metadata": {},
     "output_type": "execute_result"
    }
   ],
   "source": [
    "import numpy as np\n",
    "df1=pd.Series(np.arange(2,20,1))\n",
    "df1.nsmallest(n=4)"
   ]
  },
  {
   "cell_type": "code",
   "execution_count": 45,
   "id": "8cbc556b",
   "metadata": {},
   "outputs": [
    {
     "name": "stdout",
     "output_type": "stream",
     "text": [
      "17    19\n",
      "16    18\n",
      "15    17\n",
      "14    16\n",
      "13    15\n",
      "dtype: int32\n"
     ]
    }
   ],
   "source": [
    "print(df1.nlargest(5))"
   ]
  }
 ],
 "metadata": {
  "kernelspec": {
   "display_name": "Python 3 (ipykernel)",
   "language": "python",
   "name": "python3"
  },
  "language_info": {
   "codemirror_mode": {
    "name": "ipython",
    "version": 3
   },
   "file_extension": ".py",
   "mimetype": "text/x-python",
   "name": "python",
   "nbconvert_exporter": "python",
   "pygments_lexer": "ipython3",
   "version": "3.9.13"
  }
 },
 "nbformat": 4,
 "nbformat_minor": 5
}
